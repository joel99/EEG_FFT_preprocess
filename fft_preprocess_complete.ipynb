{
 "cells": [
  {
   "cell_type": "code",
   "execution_count": 3,
   "metadata": {},
   "outputs": [
    {
     "name": "stdout",
     "output_type": "stream",
     "text": [
      "(1175, 13, 2400)\n",
      "(1175,)\n"
     ]
    }
   ],
   "source": [
    "import numpy as np\n",
    "import os\n",
    "import pickle \n",
    "\n",
    "# Expected shape is 1175 Trials x 13 channels x 2400 samples (@ 5000Hz) - value is potential\n",
    "raw_source_dir = \"NO_FFT_NOT_FLAT/\"\n",
    "\n",
    "files = ['x_train', 'x_test']\n",
    "# files = ['x_train.pickle', 'y_train.pickle', 'x_test.pickle', 'y_test.pickle']\n",
    "file_data = []\n",
    "for i, fn in enumerate(files):\n",
    "    files[i] = os.path.join(raw_source_dir, fn)\n",
    "    with open(os.path.join(raw_source_dir, '{}.pickle'.format(fn)), 'rb') as f:\n",
    "        file_data.append(np.array(pickle.load(f)))\n",
    "        \n",
    "# x_train = file_data[0]\n",
    "# y_train = file_data[1]\n",
    "# x_test = file_data[2] \n",
    "# y_test = file_data[3]\n",
    "# print(x_train.shape)\n",
    "# print(y_train.shape)"
   ]
  },
  {
   "cell_type": "code",
   "execution_count": 7,
   "metadata": {},
   "outputs": [],
   "source": [
    "# Referencing http://forrestbao.blogspot.com/2009/10/eeg-signal-processing-in-python-and.html\n",
    "# And https://www.ritchievink.com/blog/2017/04/23/understanding-the-fourier-transform-by-example/\n",
    "for i, eeg_data in enumerate(file_data):\n",
    "     # Shape trials x channels x samples\n",
    "    fs = 5000.0\n",
    "\n",
    "    # Create windows\n",
    "    sample_length = x_train.shape[-1]\n",
    "    \n",
    "    # Hyperparams\n",
    "    window_length = 625\n",
    "    step_size = 25\n",
    "    banded_freq = 200 # Number of freq steps to keep -> goes up to window_length (for some reason)\n",
    "    \n",
    "    roll_cap = (sample_length - window_length)//step_size + 1 # Number of windows\n",
    "    roll_ctr = 0\n",
    "\n",
    "    # Prepare fft\n",
    "    # f = np.linspace(0,fs, window_length) # 5000/625 -> resolution of about 8Hz...\n",
    "\n",
    "    fft_over_time = np.zeros((x_train.shape[0], x_train.shape[1], roll_cap, banded_freq))\n",
    "\n",
    "    # Could consider vectorizing...\n",
    "    while roll_ctr < roll_cap:\n",
    "        window_sample = raw_eeg[...,roll_ctr * step_size: roll_ctr * step_size + window_length]\n",
    "        fft_over_time[..., roll_ctr,:] = np.abs(np.fft.rfft(window_sample)[...,:banded_freq]) / window_length # fft over whole time frame\n",
    "        roll_ctr += 1\n",
    "    pickle_name = \"{}_fft.sav\".format(files[i])\n",
    "    pickle.dump(fft_over_time, open(pickle_name, 'wb'))\n",
    "    \n",
    "    "
   ]
  },
  {
   "cell_type": "code",
   "execution_count": null,
   "metadata": {},
   "outputs": [],
   "source": []
  }
 ],
 "metadata": {
  "kernelspec": {
   "display_name": "Python 3",
   "language": "python",
   "name": "python3"
  },
  "language_info": {
   "codemirror_mode": {
    "name": "ipython",
    "version": 3
   },
   "file_extension": ".py",
   "mimetype": "text/x-python",
   "name": "python",
   "nbconvert_exporter": "python",
   "pygments_lexer": "ipython3",
   "version": "3.5.5"
  }
 },
 "nbformat": 4,
 "nbformat_minor": 2
}
